{
 "cells": [
  {
   "cell_type": "code",
   "execution_count": 75,
   "metadata": {
    "collapsed": true
   },
   "outputs": [],
   "source": [
    "import pandas as pd\n",
    "from sklearn.ensemble import RandomForestClassifier, RandomForestRegressor\n",
    "from sklearn.model_selection import train_test_split\n",
    "from sklearn.metrics import accuracy_score\n",
    "from sklearn.metrics import classification_report\n",
    "from sklearn.metrics import confusion_matrix\n",
    "\n",
    "train = pd.read_csv('train_weather_fool.csv')\n",
    "test = pd.read_csv('test2.csv')"
   ]
  },
  {
   "cell_type": "code",
   "execution_count": 76,
   "metadata": {
    "collapsed": false
   },
   "outputs": [
    {
     "name": "stdout",
     "output_type": "stream",
     "text": [
      "Unnamed: 0\n",
      "Tmax\n",
      "Tmin\n",
      "Tavg\n",
      "DewPoint\n",
      "Heat\n",
      "Cool\n",
      "PrecipTotal\n",
      "StnPressure\n",
      "ResultDir\n",
      "AvgSpeed\n",
      "Block\n",
      "Latitude\n",
      "Longitude\n",
      "T002\n",
      "T007\n",
      "T015\n",
      "T045\n",
      "T046\n",
      "T048\n",
      "T049\n",
      "T050\n",
      "T054\n",
      "T086\n",
      "T091\n",
      "T094\n",
      "T096\n",
      "T129\n",
      "T143\n",
      "T148\n",
      "T153\n",
      "T159\n",
      "T009\n",
      "T011\n",
      "T016\n",
      "T019\n",
      "T025\n",
      "T028\n",
      "T031\n",
      "T033\n",
      "T089\n",
      "T090\n",
      "T092\n",
      "T135\n",
      "T141\n",
      "T142\n",
      "T145\n",
      "T146\n",
      "T147\n",
      "T149\n",
      "T150\n",
      "T151\n",
      "T152\n",
      "T154\n",
      "T158\n",
      "T162\n",
      "T218\n",
      "T220\n",
      "T003\n",
      "T006\n",
      "T008\n",
      "T012\n",
      "T034\n",
      "T037\n",
      "T040\n",
      "T043\n",
      "T047\n",
      "T051\n",
      "T085\n",
      "T088\n",
      "T161\n",
      "T219\n",
      "T013\n",
      "T014\n",
      "T018\n",
      "T030\n",
      "T084\n",
      "T144\n",
      "T160\n",
      "T005\n",
      "T017\n",
      "T044\n",
      "T095\n",
      "T004\n",
      "T035\n",
      "T036\n",
      "T039\n",
      "T060\n",
      "T061\n",
      "T062\n",
      "T065\n",
      "T066\n",
      "T067\n",
      "T069\n",
      "T070\n",
      "T071\n",
      "T073\n",
      "T074\n",
      "T075\n",
      "T076\n",
      "T077\n",
      "T079\n",
      "T080\n",
      "T081\n",
      "T082\n",
      "T083\n",
      "T114\n",
      "T155\n",
      "T063\n",
      "T115\n",
      "T138\n",
      "T200\n",
      "T206\n",
      "T209\n",
      "T212\n",
      "T215\n",
      "T107\n",
      "T128\n",
      "T072\n",
      "T078\n",
      "T097\n",
      "T099\n",
      "T100\n",
      "T102\n",
      "T103\n",
      "T027\n",
      "T156\n",
      "T157\n",
      "T221\n",
      "T900\n",
      "T903\n",
      "T222\n",
      "T223\n",
      "T225\n",
      "T227\n",
      "T224\n",
      "T226\n",
      "T229\n",
      "T230\n",
      "T228\n",
      "T232\n",
      "T231\n",
      "T235\n",
      "T233\n",
      "T236\n",
      "T237\n",
      "T238\n",
      "T094B\n",
      "CULEX PIPIENS/RESTUANS\n",
      "CULEX RESTUANS\n",
      "CULEX PIPIENS\n",
      "CULEX SALINARIUS\n",
      "CULEX TERRITANS\n",
      "CULEX TARSALIS\n",
      "Id\n"
     ]
    }
   ],
   "source": [
    "for i in test.columns:\n",
    "    print i"
   ]
  },
  {
   "cell_type": "code",
   "execution_count": 77,
   "metadata": {
    "collapsed": false
   },
   "outputs": [
    {
     "data": {
      "text/html": [
       "<div>\n",
       "<table border=\"1\" class=\"dataframe\">\n",
       "  <thead>\n",
       "    <tr style=\"text-align: right;\">\n",
       "      <th></th>\n",
       "      <th>Station</th>\n",
       "      <th>Date</th>\n",
       "      <th>Tmax</th>\n",
       "      <th>Tmin</th>\n",
       "      <th>Tavg</th>\n",
       "      <th>DewPoint</th>\n",
       "      <th>Heat</th>\n",
       "      <th>Cool</th>\n",
       "      <th>PrecipTotal</th>\n",
       "      <th>StnPressure</th>\n",
       "      <th>...</th>\n",
       "      <th>T238</th>\n",
       "      <th>T094B</th>\n",
       "      <th>T054C</th>\n",
       "      <th>CULEX PIPIENS/RESTUANS</th>\n",
       "      <th>CULEX RESTUANS</th>\n",
       "      <th>CULEX PIPIENS</th>\n",
       "      <th>CULEX SALINARIUS</th>\n",
       "      <th>CULEX TERRITANS</th>\n",
       "      <th>CULEX TARSALIS</th>\n",
       "      <th>CULEX ERRATICUS</th>\n",
       "    </tr>\n",
       "  </thead>\n",
       "  <tbody>\n",
       "    <tr>\n",
       "      <th>0</th>\n",
       "      <td>1</td>\n",
       "      <td>2007-05-29</td>\n",
       "      <td>88</td>\n",
       "      <td>60</td>\n",
       "      <td>74</td>\n",
       "      <td>58</td>\n",
       "      <td>0</td>\n",
       "      <td>9</td>\n",
       "      <td>0.0</td>\n",
       "      <td>29.39</td>\n",
       "      <td>...</td>\n",
       "      <td>0</td>\n",
       "      <td>0</td>\n",
       "      <td>0</td>\n",
       "      <td>1</td>\n",
       "      <td>0</td>\n",
       "      <td>1</td>\n",
       "      <td>0</td>\n",
       "      <td>0</td>\n",
       "      <td>0</td>\n",
       "      <td>0</td>\n",
       "    </tr>\n",
       "    <tr>\n",
       "      <th>1</th>\n",
       "      <td>1</td>\n",
       "      <td>2007-05-29</td>\n",
       "      <td>88</td>\n",
       "      <td>60</td>\n",
       "      <td>74</td>\n",
       "      <td>58</td>\n",
       "      <td>0</td>\n",
       "      <td>9</td>\n",
       "      <td>0.0</td>\n",
       "      <td>29.39</td>\n",
       "      <td>...</td>\n",
       "      <td>0</td>\n",
       "      <td>0</td>\n",
       "      <td>0</td>\n",
       "      <td>0</td>\n",
       "      <td>1</td>\n",
       "      <td>0</td>\n",
       "      <td>0</td>\n",
       "      <td>0</td>\n",
       "      <td>0</td>\n",
       "      <td>0</td>\n",
       "    </tr>\n",
       "    <tr>\n",
       "      <th>2</th>\n",
       "      <td>1</td>\n",
       "      <td>2007-05-29</td>\n",
       "      <td>88</td>\n",
       "      <td>60</td>\n",
       "      <td>74</td>\n",
       "      <td>58</td>\n",
       "      <td>0</td>\n",
       "      <td>9</td>\n",
       "      <td>0.0</td>\n",
       "      <td>29.39</td>\n",
       "      <td>...</td>\n",
       "      <td>0</td>\n",
       "      <td>0</td>\n",
       "      <td>0</td>\n",
       "      <td>0</td>\n",
       "      <td>1</td>\n",
       "      <td>0</td>\n",
       "      <td>0</td>\n",
       "      <td>0</td>\n",
       "      <td>0</td>\n",
       "      <td>0</td>\n",
       "    </tr>\n",
       "    <tr>\n",
       "      <th>3</th>\n",
       "      <td>1</td>\n",
       "      <td>2007-05-29</td>\n",
       "      <td>88</td>\n",
       "      <td>60</td>\n",
       "      <td>74</td>\n",
       "      <td>58</td>\n",
       "      <td>0</td>\n",
       "      <td>9</td>\n",
       "      <td>0.0</td>\n",
       "      <td>29.39</td>\n",
       "      <td>...</td>\n",
       "      <td>0</td>\n",
       "      <td>0</td>\n",
       "      <td>0</td>\n",
       "      <td>1</td>\n",
       "      <td>0</td>\n",
       "      <td>1</td>\n",
       "      <td>0</td>\n",
       "      <td>0</td>\n",
       "      <td>0</td>\n",
       "      <td>0</td>\n",
       "    </tr>\n",
       "    <tr>\n",
       "      <th>4</th>\n",
       "      <td>1</td>\n",
       "      <td>2007-05-29</td>\n",
       "      <td>88</td>\n",
       "      <td>60</td>\n",
       "      <td>74</td>\n",
       "      <td>58</td>\n",
       "      <td>0</td>\n",
       "      <td>9</td>\n",
       "      <td>0.0</td>\n",
       "      <td>29.39</td>\n",
       "      <td>...</td>\n",
       "      <td>0</td>\n",
       "      <td>0</td>\n",
       "      <td>0</td>\n",
       "      <td>0</td>\n",
       "      <td>1</td>\n",
       "      <td>0</td>\n",
       "      <td>0</td>\n",
       "      <td>0</td>\n",
       "      <td>0</td>\n",
       "      <td>0</td>\n",
       "    </tr>\n",
       "  </tbody>\n",
       "</table>\n",
       "<p>5 rows × 160 columns</p>\n",
       "</div>"
      ],
      "text/plain": [
       "   Station        Date  Tmax  Tmin  Tavg  DewPoint  Heat  Cool  PrecipTotal  \\\n",
       "0        1  2007-05-29    88    60    74        58     0     9          0.0   \n",
       "1        1  2007-05-29    88    60    74        58     0     9          0.0   \n",
       "2        1  2007-05-29    88    60    74        58     0     9          0.0   \n",
       "3        1  2007-05-29    88    60    74        58     0     9          0.0   \n",
       "4        1  2007-05-29    88    60    74        58     0     9          0.0   \n",
       "\n",
       "   StnPressure       ...         T238  T094B  T054C  CULEX PIPIENS/RESTUANS  \\\n",
       "0        29.39       ...            0      0      0                       1   \n",
       "1        29.39       ...            0      0      0                       0   \n",
       "2        29.39       ...            0      0      0                       0   \n",
       "3        29.39       ...            0      0      0                       1   \n",
       "4        29.39       ...            0      0      0                       0   \n",
       "\n",
       "   CULEX RESTUANS  CULEX PIPIENS  CULEX SALINARIUS  CULEX TERRITANS  \\\n",
       "0               0              1                 0                0   \n",
       "1               1              0                 0                0   \n",
       "2               1              0                 0                0   \n",
       "3               0              1                 0                0   \n",
       "4               1              0                 0                0   \n",
       "\n",
       "   CULEX TARSALIS  CULEX ERRATICUS  \n",
       "0               0                0  \n",
       "1               0                0  \n",
       "2               0                0  \n",
       "3               0                0  \n",
       "4               0                0  \n",
       "\n",
       "[5 rows x 160 columns]"
      ]
     },
     "execution_count": 77,
     "metadata": {},
     "output_type": "execute_result"
    }
   ],
   "source": [
    "train.head()"
   ]
  },
  {
   "cell_type": "code",
   "execution_count": 108,
   "metadata": {
    "collapsed": false
   },
   "outputs": [
    {
     "data": {
      "text/plain": [
       "RandomForestClassifier(bootstrap=True, class_weight=None, criterion='gini',\n",
       "            max_depth=None, max_features='auto', max_leaf_nodes=None,\n",
       "            min_impurity_split=1e-07, min_samples_leaf=1,\n",
       "            min_samples_split=2, min_weight_fraction_leaf=0.0,\n",
       "            n_estimators=50, n_jobs=1, oob_score=False, random_state=None,\n",
       "            verbose=0, warm_start=False)"
      ]
     },
     "execution_count": 108,
     "metadata": {},
     "output_type": "execute_result"
    }
   ],
   "source": [
    "X = train[['Tmax', 'Tmin', 'Tavg', 'DewPoint', 'Heat', 'Cool', 'PrecipTotal', \n",
    "                          'StnPressure', 'ResultDir', 'AvgSpeed', 'Block','T002', 'T007', 'T015', 'T045', 'T046', 'T048', 'T049', \n",
    "                          'T050', 'T054', 'T086', 'T091', 'T094', 'T096', 'T129', 'T143', 'T148', \n",
    "                          'T153', 'T159', 'T009', 'T011', 'T016', 'T019', 'T025', 'T028', 'T031', \n",
    "                          'T033', 'T089', 'T090', 'T092', 'T135', 'T141', 'T142', 'T145', 'T146',\n",
    "                          'T147', 'T149', 'T150', 'T151', 'T152', 'T154', 'T158', 'T162', 'T218', \n",
    "                          'T220', 'T003', 'T006', 'T008', 'T012', 'T034', 'T037', 'T040', \n",
    "                          'T043', 'T047', 'T051', 'T085', 'T088', 'T161', 'T219', 'T013', 'T014', \n",
    "                          'T018', 'T030', 'T084', 'T144', 'T160', 'T005', 'T017', 'T044', 'T095', \n",
    "                          'T004', 'T035', 'T036', 'T039', 'T060', 'T061', 'T062', 'T065', 'T066', \n",
    "                          'T067', 'T069', 'T070', 'T071', 'T073', 'T074', 'T075', 'T076', 'T077', \n",
    "                          'T079', 'T080', 'T081', 'T082', 'T083', 'T114', 'T155', 'T063', 'T115', \n",
    "                          'T138', 'T200', 'T206', 'T209', 'T212', 'T215', 'T107', 'T128', 'T072', \n",
    "                          'T078', 'T097', 'T099', 'T100', 'T102', 'T103', 'T027', 'T156', 'T157', \n",
    "                          'T221', 'T900', 'T903', 'T222', 'T223', 'T225', 'T227', 'T224', 'T226', \n",
    "                          'T229', 'T230', 'T228', 'T232', 'T231', 'T235', 'T233', 'T236', 'T237', \n",
    "                          'T238', 'T094B', 'CULEX PIPIENS/RESTUANS', 'CULEX RESTUANS', 'CULEX PIPIENS', \n",
    "                          'CULEX SALINARIUS', 'CULEX TERRITANS', 'CULEX TARSALIS']]\n",
    "\n",
    "y = train['WnvPresent']\n",
    "\n",
    "rf_train = RandomForestClassifier(n_estimators=50)\n",
    "rf_train.fit(X,y)"
   ]
  },
  {
   "cell_type": "code",
   "execution_count": 109,
   "metadata": {
    "collapsed": false
   },
   "outputs": [
    {
     "name": "stdout",
     "output_type": "stream",
     "text": [
      "[[19861    49]\n",
      " [  351   751]]\n"
     ]
    }
   ],
   "source": [
    "y_pred = rf_train.predict(X)\n",
    "print confusion_matrix(y,y_pred) \n"
   ]
  },
  {
   "cell_type": "code",
   "execution_count": 110,
   "metadata": {
    "collapsed": false
   },
   "outputs": [
    {
     "name": "stdout",
     "output_type": "stream",
     "text": [
      "0.98096325909\n"
     ]
    }
   ],
   "source": [
    "print accuracy_score(y_pred, y) "
   ]
  },
  {
   "cell_type": "code",
   "execution_count": 111,
   "metadata": {
    "collapsed": false
   },
   "outputs": [
    {
     "name": "stdout",
     "output_type": "stream",
     "text": [
      "             precision    recall  f1-score   support\n",
      "\n",
      "          0       0.98      1.00      0.99     19910\n",
      "          1       0.94      0.68      0.79      1102\n",
      "\n",
      "avg / total       0.98      0.98      0.98     21012\n",
      "\n"
     ]
    }
   ],
   "source": [
    "print classification_report(y ,y_pred)"
   ]
  },
  {
   "cell_type": "code",
   "execution_count": 112,
   "metadata": {
    "collapsed": false
   },
   "outputs": [
    {
     "data": {
      "text/html": [
       "<div>\n",
       "<table border=\"1\" class=\"dataframe\">\n",
       "  <thead>\n",
       "    <tr style=\"text-align: right;\">\n",
       "      <th></th>\n",
       "      <th>importance</th>\n",
       "    </tr>\n",
       "  </thead>\n",
       "  <tbody>\n",
       "    <tr>\n",
       "      <th>CULEX PIPIENS/RESTUANS</th>\n",
       "      <td>0.102379</td>\n",
       "    </tr>\n",
       "    <tr>\n",
       "      <th>Block</th>\n",
       "      <td>0.088611</td>\n",
       "    </tr>\n",
       "    <tr>\n",
       "      <th>AvgSpeed</th>\n",
       "      <td>0.042775</td>\n",
       "    </tr>\n",
       "    <tr>\n",
       "      <th>DewPoint</th>\n",
       "      <td>0.037663</td>\n",
       "    </tr>\n",
       "    <tr>\n",
       "      <th>ResultDir</th>\n",
       "      <td>0.037189</td>\n",
       "    </tr>\n",
       "    <tr>\n",
       "      <th>Tmax</th>\n",
       "      <td>0.036726</td>\n",
       "    </tr>\n",
       "    <tr>\n",
       "      <th>StnPressure</th>\n",
       "      <td>0.035560</td>\n",
       "    </tr>\n",
       "    <tr>\n",
       "      <th>Tmin</th>\n",
       "      <td>0.033004</td>\n",
       "    </tr>\n",
       "    <tr>\n",
       "      <th>Tavg</th>\n",
       "      <td>0.030601</td>\n",
       "    </tr>\n",
       "    <tr>\n",
       "      <th>Cool</th>\n",
       "      <td>0.029002</td>\n",
       "    </tr>\n",
       "  </tbody>\n",
       "</table>\n",
       "</div>"
      ],
      "text/plain": [
       "                        importance\n",
       "CULEX PIPIENS/RESTUANS    0.102379\n",
       "Block                     0.088611\n",
       "AvgSpeed                  0.042775\n",
       "DewPoint                  0.037663\n",
       "ResultDir                 0.037189\n",
       "Tmax                      0.036726\n",
       "StnPressure               0.035560\n",
       "Tmin                      0.033004\n",
       "Tavg                      0.030601\n",
       "Cool                      0.029002"
      ]
     },
     "execution_count": 112,
     "metadata": {},
     "output_type": "execute_result"
    }
   ],
   "source": [
    "rf_features = pd.DataFrame(rf_train.feature_importances_,\n",
    "                                   index = X.columns,\n",
    "                                    columns=['importance']).sort_values('importance',\n",
    "                                                                        ascending=False)\n",
    "rf_features.head(10)"
   ]
  },
  {
   "cell_type": "code",
   "execution_count": 113,
   "metadata": {
    "collapsed": false
   },
   "outputs": [],
   "source": [
    "y_pred_class = rf_train.predict(test.drop(['Unnamed: 0','Latitude', 'Longitude', 'Id'], axis=1))"
   ]
  },
  {
   "cell_type": "code",
   "execution_count": 114,
   "metadata": {
    "collapsed": false
   },
   "outputs": [
    {
     "data": {
      "text/plain": [
       "array([0, 0, 0, ..., 0, 0, 0])"
      ]
     },
     "execution_count": 114,
     "metadata": {},
     "output_type": "execute_result"
    }
   ],
   "source": [
    "y_pred_class"
   ]
  },
  {
   "cell_type": "code",
   "execution_count": 115,
   "metadata": {
    "collapsed": false
   },
   "outputs": [
    {
     "name": "stdout",
     "output_type": "stream",
     "text": [
      "   Negative  Positive\n",
      "0      0.99      0.01\n",
      "1      0.98      0.02\n",
      "2      0.86      0.14\n",
      "3      0.94      0.06\n",
      "4      1.00      0.00\n",
      "5      0.94      0.06\n",
      "6      0.94      0.06\n",
      "7      0.94      0.06\n",
      "8      0.98      0.02\n",
      "9      0.96      0.04\n"
     ]
    }
   ],
   "source": [
    "Y_pp = pd.DataFrame(rf_train.predict_proba(test.drop(['Unnamed: 0', 'Latitude', 'Longitude', 'Id'], axis=1)), columns=['Negative','Positive'])\n",
    "print(Y_pp.iloc[0:10])"
   ]
  },
  {
   "cell_type": "code",
   "execution_count": 116,
   "metadata": {
    "collapsed": true
   },
   "outputs": [],
   "source": [
    "Y_pp['pred_class_thresh50'] = [1 if x >= 0.50 else 0 for x in Y_pp.Positive.values]"
   ]
  },
  {
   "cell_type": "code",
   "execution_count": 117,
   "metadata": {
    "collapsed": true
   },
   "outputs": [],
   "source": [
    "Y_pp['Id'] = test['Id']"
   ]
  },
  {
   "cell_type": "code",
   "execution_count": 118,
   "metadata": {
    "collapsed": true
   },
   "outputs": [],
   "source": [
    "Y_pp['WnvPresent'] = Y_pp['pred_class_thresh50']"
   ]
  },
  {
   "cell_type": "code",
   "execution_count": 119,
   "metadata": {
    "collapsed": false
   },
   "outputs": [],
   "source": [
    "RandomForest = pd.DataFrame()\n",
    "RandomForest['Id'] = Y_pp['Id']\n",
    "RandomForest['WnvPresent'] = Y_pp['WnvPresent']"
   ]
  },
  {
   "cell_type": "code",
   "execution_count": 120,
   "metadata": {
    "collapsed": false
   },
   "outputs": [
    {
     "data": {
      "text/html": [
       "<div>\n",
       "<table border=\"1\" class=\"dataframe\">\n",
       "  <thead>\n",
       "    <tr style=\"text-align: right;\">\n",
       "      <th></th>\n",
       "      <th>Id</th>\n",
       "      <th>WnvPresent</th>\n",
       "    </tr>\n",
       "  </thead>\n",
       "  <tbody>\n",
       "    <tr>\n",
       "      <th>0</th>\n",
       "      <td>1</td>\n",
       "      <td>0</td>\n",
       "    </tr>\n",
       "    <tr>\n",
       "      <th>1</th>\n",
       "      <td>2</td>\n",
       "      <td>0</td>\n",
       "    </tr>\n",
       "    <tr>\n",
       "      <th>2</th>\n",
       "      <td>3</td>\n",
       "      <td>0</td>\n",
       "    </tr>\n",
       "    <tr>\n",
       "      <th>3</th>\n",
       "      <td>4</td>\n",
       "      <td>0</td>\n",
       "    </tr>\n",
       "    <tr>\n",
       "      <th>4</th>\n",
       "      <td>5</td>\n",
       "      <td>0</td>\n",
       "    </tr>\n",
       "  </tbody>\n",
       "</table>\n",
       "</div>"
      ],
      "text/plain": [
       "   Id  WnvPresent\n",
       "0   1           0\n",
       "1   2           0\n",
       "2   3           0\n",
       "3   4           0\n",
       "4   5           0"
      ]
     },
     "execution_count": 120,
     "metadata": {},
     "output_type": "execute_result"
    }
   ],
   "source": [
    "RandomForest.head()"
   ]
  },
  {
   "cell_type": "code",
   "execution_count": 121,
   "metadata": {
    "collapsed": true
   },
   "outputs": [],
   "source": [
    "RandomForest.to_csv('rfsubmit.csv', index=False)"
   ]
  }
 ],
 "metadata": {
  "kernelspec": {
   "display_name": "Python 2",
   "language": "python",
   "name": "python2"
  },
  "language_info": {
   "codemirror_mode": {
    "name": "ipython",
    "version": 2
   },
   "file_extension": ".py",
   "mimetype": "text/x-python",
   "name": "python",
   "nbconvert_exporter": "python",
   "pygments_lexer": "ipython2",
   "version": "2.7.13"
  }
 },
 "nbformat": 4,
 "nbformat_minor": 2
}
